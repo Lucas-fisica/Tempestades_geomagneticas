{
 "cells": [
  {
   "cell_type": "code",
   "execution_count": 1,
   "metadata": {},
   "outputs": [],
   "source": [
    "import pandas as pd\n",
    "from pathlib import Path\n",
    "from datetime import timedelta as dt\n",
    "from datetime import datetime as ds\n",
    "from control import indicep, sem_tempestade"
   ]
  },
  {
   "cell_type": "code",
   "execution_count": 2,
   "metadata": {},
   "outputs": [],
   "source": [
    "kp_dst = Path('dados/kp_dst')\n",
    "kp_dst.mkdir(exist_ok=True)\n",
    "arq1 = Path('dados/kp')\n",
    "arq2 = Path('dados/dst')\n",
    "arquivos1 = [i for i in arq1.glob('*limpo.txt')]\n",
    "arquivos1.sort()\n",
    "arquivos2 = [i for i in arq2.glob('dst_limpo*.txt')]\n",
    "arquivos2.sort()"
   ]
  },
  {
   "cell_type": "code",
   "execution_count": 3,
   "metadata": {},
   "outputs": [],
   "source": [
    "kp_m = Path('dados/kp_mode_dst')\n",
    "kp_m.mkdir(exist_ok=True)\n",
    "kp_intenso_dst = Path('dados/kp_intenso_dst')\n",
    "kp_intenso_dst.mkdir(exist_ok=True)\n",
    "kp_fraco = Path('dados/kp_fraco_dst')\n",
    "kp_fraco.mkdir(exist_ok=True)\n",
    "anos_sem = sem_tempestade()"
   ]
  },
  {
   "cell_type": "code",
   "execution_count": 4,
   "metadata": {},
   "outputs": [],
   "source": [
    "for i, f in zip(arquivos1, arquivos2):\n",
    "    df = pd.read_csv(i, sep='\\s+')\n",
    "    dfs = pd.read_csv(f, sep='\\s+')\n",
    "    dfs.set_index('Data', inplace=True)\n",
    "    for value in [3, 4, 5]:\n",
    "        if value == 3:\n",
    "            sele3 = df['kp'] < 4\n",
    "            sele3 = df['kp'] > 3\n",
    "            indece3 = df[sele3].index.get_level_values(0)\n",
    "\n",
    "            for r in indece3:\n",
    "\n",
    "                if r in indicep:\n",
    "                    for anos_s in anos_sem:\n",
    "                        data = r[4:]\n",
    "                        r = str(anos_s)+data\n",
    "                        df2 = pd.read_csv(f'dados/kp/kp{anos_s}_limpo.txt', sep='\\s+')\n",
    "                        dfs2 = pd.read_csv(f'dados/dst/dst_limpo{anos_s}.txt', sep='\\s+')\n",
    "                        dfs2.set_index('Data', inplace=True)\n",
    "                        antes = (ds.strptime(r,'%Y-%m-%d') - dt(days=2)).date()\n",
    "                        depois = (ds.strptime(r,'%Y-%m-%d') + dt(days=2)).date()\n",
    "                        df2[str(antes):str(depois)].to_string(f'{kp_fraco}/kp_{r}.txt')\n",
    "                        dfs2[str(antes):str(depois)].to_string(f'{kp_fraco}/dst_{r}.txt')\n",
    "\n",
    "        elif value == 4:\n",
    "            sele3 = df['kp'] == 4\n",
    "            indece3 = df[sele3].index.get_level_values(0)\n",
    "            for r in indece3:\n",
    "                if r in indicep:\n",
    "                    for anos_s in anos_sem:\n",
    "                        data = r[4:]\n",
    "                        r = str(anos_s)+data\n",
    "                        df2 = pd.read_csv(f'dados/kp/kp{anos_s}_limpo.txt', sep='\\s+')\n",
    "                        dfs2 = pd.read_csv(f'dados/dst/dst_limpo{anos_s}.txt', sep='\\s+')\n",
    "                        dfs2.set_index('Data', inplace=True)\n",
    "                        antes = (ds.strptime(r,'%Y-%m-%d') - dt(days=2)).date()\n",
    "                        depois = (ds.strptime(r,'%Y-%m-%d') + dt(days=2)).date()\n",
    "                        df2[str(antes):str(depois)].to_string(f'{kp_m}/kp_{r}.txt')\n",
    "                        dfs2[str(antes):str(depois)].to_string(f'{kp_m}/dst_{r}.txt')\n",
    "   \n",
    "        else:\n",
    "            sele3 = df['kp'] > 4\n",
    "            indece3 = df[sele3].index.get_level_values(0)\n",
    "            for r in indece3:\n",
    "                if r in indicep:\n",
    "                    antes = (ds.strptime(r,'%Y-%m-%d') - dt(days=2)).date()\n",
    "                    depois = (ds.strptime(r,'%Y-%m-%d') + dt(days=2)).date()\n",
    "                    df[str(antes):str(depois)].to_string(f'{kp_intenso_dst}/kp_{r}.txt')\n",
    "                    dfs[str(antes):str(depois)].to_string(f'{kp_intenso_dst}/dst_{r}.txt')"
   ]
  }
 ],
 "metadata": {
  "kernelspec": {
   "display_name": "Python 3.10.7 ('.venv': venv)",
   "language": "python",
   "name": "python3"
  },
  "language_info": {
   "codemirror_mode": {
    "name": "ipython",
    "version": 3
   },
   "file_extension": ".py",
   "mimetype": "text/x-python",
   "name": "python",
   "nbconvert_exporter": "python",
   "pygments_lexer": "ipython3",
   "version": "3.10.7"
  },
  "orig_nbformat": 4,
  "vscode": {
   "interpreter": {
    "hash": "02f43655d0df7fc3c4d4497e74a4a4005fcbaba2605dedc528b6a0d0313bd998"
   }
  }
 },
 "nbformat": 4,
 "nbformat_minor": 2
}
