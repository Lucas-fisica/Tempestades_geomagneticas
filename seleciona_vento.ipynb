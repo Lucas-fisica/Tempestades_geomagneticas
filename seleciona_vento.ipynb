{
 "cells": [
  {
   "cell_type": "code",
   "execution_count": 1,
   "metadata": {},
   "outputs": [],
   "source": [
    "import pandas as pd\n",
    "import matplotlib.pyplot as plt\n",
    "from control import indicep\n",
    "from pathlib import Path as pt\n",
    "from datetime import (datetime as dt, timedelta as tm)"
   ]
  },
  {
   "cell_type": "code",
   "execution_count": 2,
   "metadata": {},
   "outputs": [],
   "source": [
    "vento_in_seleciona = pt('dados/vento_in_selecio')\n",
    "vento_in_seleciona.mkdir(exist_ok=True)"
   ]
  },
  {
   "cell_type": "code",
   "execution_count": null,
   "metadata": {},
   "outputs": [],
   "source": [
    "\n"
   ]
  },
  {
   "cell_type": "code",
   "execution_count": 3,
   "metadata": {},
   "outputs": [],
   "source": [
    "vento = pt(r'dados\\vento_ano_intenso')\n",
    "vento_mer_cachoeira = sorted([i for i in vento.glob('*brazil.mer.txt')])\n",
    "vento_zon_cachoeira = sorted([i for i in vento.glob('*brazil.zon.txt')])\n",
    "vento_mer_cariri = sorted([i for i in vento.glob('*cariri.mer.txt')])\n",
    "vento_zon_cariri = sorted([i for i in vento.glob('*cariri.zon.txt')])\n",
    "vento = [vento_mer_cachoeira, vento_zon_cachoeira, vento_mer_cariri, vento_zon_cariri]\n",
    "\n",
    "for cidade in vento:\n",
    "    for vento in cidade:\n",
    "        df = pd.read_csv(vento, sep='\\s+')\n",
    "        for dia in indicep:\n",
    "            if dia in df.index:\n",
    "                data = dt.strptime(dia, '%Y-%m-%d').date()\n",
    "                ini = str(data-tm(days=2))\n",
    "                fim = str(data+tm(days=2))\n",
    "                selec = df[ini:fim]\n",
    "                selec.to_string(f'{vento_in_seleciona}/{str(data)}_{str(vento)[-14:-8]}{str(vento)[-8:-4]}')\n"
   ]
  }
 ],
 "metadata": {
  "kernelspec": {
   "display_name": "Python 3.10.7 ('.venv': venv)",
   "language": "python",
   "name": "python3"
  },
  "language_info": {
   "codemirror_mode": {
    "name": "ipython",
    "version": 3
   },
   "file_extension": ".py",
   "mimetype": "text/x-python",
   "name": "python",
   "nbconvert_exporter": "python",
   "pygments_lexer": "ipython3",
   "version": "3.10.7"
  },
  "orig_nbformat": 4,
  "vscode": {
   "interpreter": {
    "hash": "02f43655d0df7fc3c4d4497e74a4a4005fcbaba2605dedc528b6a0d0313bd998"
   }
  }
 },
 "nbformat": 4,
 "nbformat_minor": 2
}
