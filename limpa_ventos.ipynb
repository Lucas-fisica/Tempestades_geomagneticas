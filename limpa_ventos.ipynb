{
 "cells": [
  {
   "cell_type": "markdown",
   "metadata": {},
   "source": [
    "### Pacotes usados"
   ]
  },
  {
   "cell_type": "code",
   "execution_count": 5,
   "metadata": {},
   "outputs": [],
   "source": [
    "from calendar import monthrange as mr\n",
    "from pathlib import Path\n",
    "import pandas as pd\n",
    "from control import indice, busca1, dias, sem_tempestade, dju_dgr\n",
    "import matplotlib.pyplot as plt\n",
    "import matplotlib as mpl\n",
    "import numpy as np\n",
    "\n",
    "import warnings\n",
    "warnings.simplefilter(action='ignore', category=FutureWarning)\n"
   ]
  },
  {
   "cell_type": "code",
   "execution_count": 2,
   "metadata": {},
   "outputs": [],
   "source": [
    "mpl.rcParams['font.family'] = ['Family1', 'Serif', 'cursive']\n",
    "mpl.rcParams['font.size'] = 12"
   ]
  },
  {
   "cell_type": "code",
   "execution_count": 3,
   "metadata": {},
   "outputs": [],
   "source": [
    "pasta = Path('dados/ventos')\n",
    "anos_n = ['1999', '2000']\n",
    "cach_cari = [i for i in pasta.glob('*/*') if busca1.findall(str(i))[0] in indice if busca1.findall(str(i))[0] not in anos_n]\n"
   ]
  },
  {
   "cell_type": "markdown",
   "metadata": {},
   "source": [
    "### Buscar por arquivos com base o ano de ocorrencia das tempestades e cria uma pasta para salvar as seleções"
   ]
  },
  {
   "cell_type": "markdown",
   "metadata": {},
   "source": [
    "### Ler os arquivos"
   ]
  },
  {
   "cell_type": "code",
   "execution_count": 6,
   "metadata": {},
   "outputs": [
    {
     "name": "stdout",
     "output_type": "stream",
     "text": [
      "2012\n",
      "2012-06-01 2012-12-31\n",
      "2012\n",
      "2012-06-01 2012-12-31\n",
      "2004\n",
      "2004-07-22 2004-12-31\n",
      "2004\n",
      "2004-07-22 2004-12-31\n",
      "nova pasta\n",
      "2007\n",
      "2007-08-27 2007-12-31\n",
      "nova pasta\n",
      "2007\n",
      "2007-08-27 2007-12-31\n",
      "nova pasta\n",
      "nova pasta\n",
      "nova pasta\n",
      "nova pasta\n",
      "nova pasta\n",
      "nova pasta\n",
      "nova pasta\n",
      "nova pasta\n",
      "nova pasta\n",
      "nova pasta\n",
      "nova pasta\n",
      "nova pasta\n",
      "nova pasta\n",
      "nova pasta\n",
      "nova pasta\n",
      "nova pasta\n",
      "nova pasta\n",
      "2019\n",
      "72\n"
     ]
    },
    {
     "data": {
      "text/plain": [
       "1"
      ]
     },
     "metadata": {},
     "output_type": "display_data"
    },
    {
     "name": "stdout",
     "output_type": "stream",
     "text": [
      "2019-01-01 2019-04-16 1\n",
      "nova pasta\n",
      "2019\n",
      "72\n"
     ]
    },
    {
     "data": {
      "text/plain": [
       "1"
      ]
     },
     "metadata": {},
     "output_type": "display_data"
    },
    {
     "name": "stdout",
     "output_type": "stream",
     "text": [
      "2019-01-01 2019-04-16 1\n"
     ]
    }
   ],
   "source": [
    "cach_tudo = [cach_cari]\n",
    "\n",
    "proximo = 0\n",
    "anos_proib = [2004, 2019]\n",
    "for tipo_tempe in cach_tudo:\n",
    "     for i in tipo_tempe:\n",
    "        ano = int(busca1.findall(str(i))[0])\n",
    "        c = 1\n",
    "        if proximo == 0:\n",
    "\n",
    "            selecionados = Path(f'dados/vento_ano_intenso/')\n",
    "            selecionados.mkdir(exist_ok=True, parents=True)\n",
    "        else:\n",
    "            selecionados = Path(f'dados/vento_ano_fra_mod/')\n",
    "            selecionados.mkdir(exist_ok=True, parents=True)\n",
    "            print('nova pasta')\n",
    "\n",
    "        valor_dia = dias(ano)\n",
    "        q_dias = sum([mr(year=ano,  month=i)[1] for i in range(1, 13)])\n",
    "        parada = q_dias*24\n",
    "        df = pd.read_csv(i, skiprows=[0, 2], sep='\\s+', usecols=[0, 1, 2, 3, 4, 5, 6, 7])\n",
    "        coluna = df['Heights:']\n",
    "        cidade = f'{str(i)[-10:]}'\n",
    "        inicio = coluna[0]\n",
    "        ano_mes = f'{ano}01'\n",
    "        if coluna[0] < 2:\n",
    "            if coluna.shape[0] > parada:\n",
    "                df = df[:parada]\n",
    "                coluna = df['Heights:']\n",
    "                inicio = dju_dgr(ano=ano, juliano=int(coluna[0]))\n",
    "                fim = dju_dgr(ano=ano, juliano=int(coluna[:-1].tail(1)))\n",
    "                data = pd.date_range(start=f'{inicio} 00:00:00', end=f'{fim} 23:00:00', freq='1H')\n",
    "\n",
    "            else:\n",
    "                fim = int(coluna.tail(1))\n",
    "                inicio = dju_dgr(ano=ano, juliano=int(coluna[0]))\n",
    "                final = dju_dgr(ano=ano, juliano=int(coluna[:-1].tail(1)))\n",
    "                data = pd.date_range(start=f'{inicio} 00:00:00', end=f'{final} 23:00:00', freq='1H')\n",
    "            df.insert(loc=0, column='Data', value=data, allow_duplicates=False)\n",
    "            \n",
    "\n",
    "        elif coluna[0]>=2:\n",
    "            print(ano)\n",
    "            if coluna[0] >= 300:\n",
    "                \n",
    "                sel = df['Heights:'] <=1.06\n",
    "                sf = df[sel]\n",
    "                print(sf.index.array[0])\n",
    "                df = df[sf.index.array[0]:]\n",
    "                coluna = df['Heights:']\n",
    "                display(int(coluna[0:1]))\n",
    "                coluna = df['Heights:']\n",
    "                inicio = dju_dgr(int(coluna[0:1]), ano)\n",
    "                final = dju_dgr(int(coluna.tail(1))-c, ano)\n",
    "                print(inicio, final, 1)\n",
    "                data = pd.date_range(start=f'{inicio} 00:00:00', end=f'{final} 23:00:00', freq='1H')\n",
    "\n",
    "            else: \n",
    "                df = df[coluna<=q_dias+1]\n",
    "                coluna = df['Heights:']\n",
    "                inicio = dju_dgr(int(coluna[0]), ano)\n",
    "                final = dju_dgr(int(coluna.tail(1))-c, ano)\n",
    "                print(inicio, final)\n",
    "                data = pd.date_range(start=f'{inicio} 00:00:00', end=f'{final} 23:00:00', freq='1H')\n",
    "\n",
    "            df.insert(loc=0, column='Data', value=data, allow_duplicates=False)\n",
    "\n",
    "        df.to_string(f'{selecionados}/{ano_mes}_{cidade}.txt', index=False)\n",
    "        if i == cach_cari[-1]:\n",
    "            proximo +=1\n",
    "            anos_sem = sem_tempestade('dados/vento_ano_intenso')\n",
    "            cach_cari_sem = [i for i in pasta.glob('*/*') if int(busca1.findall(str(i))[0]) in anos_sem if busca1.findall(str(i))[0] not in anos_n]      \n",
    "            cach_tudo.append(cach_cari_sem)\n"
   ]
  }
 ],
 "metadata": {
  "kernelspec": {
   "display_name": "Python 3.10.7 ('.venv': venv)",
   "language": "python",
   "name": "python3"
  },
  "language_info": {
   "codemirror_mode": {
    "name": "ipython",
    "version": 3
   },
   "file_extension": ".py",
   "mimetype": "text/x-python",
   "name": "python",
   "nbconvert_exporter": "python",
   "pygments_lexer": "ipython3",
   "version": "3.10.7"
  },
  "orig_nbformat": 4,
  "vscode": {
   "interpreter": {
    "hash": "c4d5fff50e497ffb00b09946725a54f450c1a4c1706054353991f71b59f09c5b"
   }
  }
 },
 "nbformat": 4,
 "nbformat_minor": 2
}
