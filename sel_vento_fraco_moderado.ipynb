{
 "cells": [
  {
   "cell_type": "code",
   "execution_count": null,
   "metadata": {},
   "outputs": [],
   "source": [
    "import pandas\n",
    "from pathlib import Path\n",
    "from datetime import datetime as dt\n",
    "from re import compile\n",
    "from control import indicep"
   ]
  },
  {
   "cell_type": "code",
   "execution_count": null,
   "metadata": {},
   "outputs": [],
   "source": [
    "pasta = Path('dados/vento_ano_intenso')\n",
    "busca_ano = compile('\\d\\d\\d\\d')\n",
    "anos_tempestade = set([int(''.join(busca_ano.findall(str(i)))) for i in pasta.glob('*')])\n",
    "anos_sem_temp = []\n",
    "for ano in range(2001, 2020):\n",
    "    if not ano in anos_tempestade:\n",
    "        anos_sem_temp.append(ano)\n",
    "    "
   ]
  },
  {
   "cell_type": "code",
   "execution_count": null,
   "metadata": {},
   "outputs": [],
   "source": [
    "per_sem = [[str(ano)+i[4:] for i in indicep] for ano in anos_sem_temp]\n"
   ]
  }
 ],
 "metadata": {
  "kernelspec": {
   "display_name": "Python 3.10.7 ('.venv': venv)",
   "language": "python",
   "name": "python3"
  },
  "language_info": {
   "codemirror_mode": {
    "name": "ipython",
    "version": 3
   },
   "file_extension": ".py",
   "mimetype": "text/x-python",
   "name": "python",
   "nbconvert_exporter": "python",
   "pygments_lexer": "ipython3",
   "version": "3.10.7"
  },
  "orig_nbformat": 4,
  "vscode": {
   "interpreter": {
    "hash": "02f43655d0df7fc3c4d4497e74a4a4005fcbaba2605dedc528b6a0d0313bd998"
   }
  }
 },
 "nbformat": 4,
 "nbformat_minor": 2
}
