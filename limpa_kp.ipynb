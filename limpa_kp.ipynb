{
 "cells": [
  {
   "cell_type": "code",
   "execution_count": 1,
   "metadata": {},
   "outputs": [],
   "source": [
    "import pandas as pd\n",
    "from pathlib import Path\n",
    "import calendar as cd\n",
    "import re\n",
    "from control import kp_deci, kp_in, busca1"
   ]
  },
  {
   "cell_type": "code",
   "execution_count": 21,
   "metadata": {},
   "outputs": [
    {
     "name": "stdout",
     "output_type": "stream",
     "text": [
      "dados/kp/kp2001_limpo.txt\n",
      "RangeIndex(start=0, stop=2920, step=1)\n",
      "dados/kp/kp2002_limpo.txt\n",
      "RangeIndex(start=0, stop=2920, step=1)\n",
      "dados/kp/kp2003_limpo.txt\n",
      "RangeIndex(start=0, stop=2920, step=1)\n",
      "dados/kp/kp2004_limpo.txt\n",
      "RangeIndex(start=0, stop=2928, step=1)\n",
      "dados/kp/kp2005_limpo.txt\n",
      "RangeIndex(start=0, stop=2920, step=1)\n",
      "dados/kp/kp2006_limpo.txt\n",
      "RangeIndex(start=0, stop=2920, step=1)\n",
      "dados/kp/kp2007_limpo.txt\n",
      "RangeIndex(start=0, stop=2920, step=1)\n",
      "dados/kp/kp2008_limpo.txt\n",
      "RangeIndex(start=0, stop=2928, step=1)\n",
      "dados/kp/kp2009_limpo.txt\n",
      "RangeIndex(start=0, stop=2920, step=1)\n",
      "dados/kp/kp2010_limpo.txt\n",
      "RangeIndex(start=0, stop=2920, step=1)\n",
      "dados/kp/kp2011_limpo.txt\n",
      "RangeIndex(start=0, stop=2920, step=1)\n",
      "dados/kp/kp2012_limpo.txt\n",
      "RangeIndex(start=0, stop=2928, step=1)\n",
      "dados/kp/kp2013_limpo.txt\n",
      "RangeIndex(start=0, stop=2920, step=1)\n",
      "dados/kp/kp2014_limpo.txt\n",
      "RangeIndex(start=0, stop=2920, step=1)\n",
      "dados/kp/kp2015_limpo.txt\n",
      "RangeIndex(start=0, stop=2920, step=1)\n",
      "dados/kp/kp2016_limpo.txt\n",
      "RangeIndex(start=0, stop=2928, step=1)\n",
      "dados/kp/kp2017_limpo.txt\n",
      "RangeIndex(start=0, stop=2920, step=1)\n",
      "dados/kp/kp2018_limpo.txt\n",
      "RangeIndex(start=0, stop=2920, step=1)\n",
      "dados/kp/kp2019_limpo.txt\n",
      "RangeIndex(start=0, stop=2920, step=1)\n"
     ]
    }
   ],
   "source": [
    "from multiprocessing.reduction import duplicate\n",
    "\n",
    "\n",
    "colunas = ['tempo',0, 3, 6, 9, 12, 15, 18, 21]\n",
    "\n",
    "kp_arqui = [arq for arq in Path('dados/kp').glob('*.txt') if 'limpo' not in str(arq)]\n",
    "\n",
    "for caminho in kp_arqui:\n",
    "    ano = int(''.join(busca1.findall(str(caminho))))\n",
    "    df = pd.read_fwf(caminho, skiprows=0)\n",
    "    mes_dia = [cd.monthrange(year=ano, month=i)[1] for i in range(1, 13)]\n",
    "    q_dias_m = sum(mes_dia)\n",
    "    #anos = [2005, 2010, 2011, 2012, 2013, 2014, 2015, 2016, 2017, 2018, 2019]\n",
    "    try:\n",
    "        kp = df['Kp[8]           Sum'].str.split('', n=0, expand=True)\n",
    "    except:\n",
    "        kp = df['Kp[8]           Sum ap[8]'].str.split('', n=0, expand=True)\n",
    "\n",
    "    df365 = []\n",
    "    df365 = pd.DataFrame().T\n",
    "    df365['tempo'] = pd.date_range(f'1/1/{ano}', periods=q_dias_m, freq='D')\n",
    "    for num, simb, hora in zip(range(1, 16, 2), range(2, 17, 2), range(0, 22, 3)):\n",
    "        df365[f'{hora}'] = kp[num]+kp[simb]\n",
    "\n",
    "        \n",
    "    df = pd.melt(df365, id_vars='tempo', var_name='hora', value_name='kp', ignore_index = True).sort_values('tempo')\n",
    "    df.reset_index(inplace=True)\n",
    "    df.drop(['tempo', 'index'], axis=1, inplace=True)\n",
    "    df['hora'] = df.hora.astype(int)\n",
    "\n",
    "\n",
    "    start1 = 0\n",
    "    start2 = 8\n",
    "\n",
    "    fim = len(df)\n",
    "    while start2<=fim:\n",
    "        df[start1:start2] = df[start1:start2].sort_values('hora')\n",
    "        start1 = start2\n",
    "        start2+=8\n",
    "    \n",
    "    data = pd.date_range(start=f'{ano}/1/1', periods=8*q_dias_m, freq='3h')\n",
    "    df.insert(loc=0, column='Data', value=data, allow_duplicates=False)\n",
    "    \n",
    "    #df.drop('hora', axis=1, inplace=True)\n",
    "    df['Kp_o'] = df['kp']\n",
    "    for ki, kd in zip(kp_in, kp_deci):\n",
    "        df['kp'].replace(ki, kd, inplace=True)\n",
    "    df.kp.astype(float)\n",
    "    df.to_string(f'dados/kp/kp{ano}_limpo.txt', index=True)\n",
    "    print(f'dados/kp/kp{ano}_limpo.txt')\n",
    "    print(df.index)"
   ]
  }
 ],
 "metadata": {
  "kernelspec": {
   "display_name": "Python 3.10.7 ('.venv': venv)",
   "language": "python",
   "name": "python3"
  },
  "language_info": {
   "codemirror_mode": {
    "name": "ipython",
    "version": 3
   },
   "file_extension": ".py",
   "mimetype": "text/x-python",
   "name": "python",
   "nbconvert_exporter": "python",
   "pygments_lexer": "ipython3",
   "version": "3.10.7"
  },
  "orig_nbformat": 4,
  "vscode": {
   "interpreter": {
    "hash": "c4d5fff50e497ffb00b09946725a54f450c1a4c1706054353991f71b59f09c5b"
   }
  }
 },
 "nbformat": 4,
 "nbformat_minor": 2
}
