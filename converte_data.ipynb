{
 "cells": [
  {
   "cell_type": "code",
   "execution_count": 27,
   "metadata": {},
   "outputs": [],
   "source": [
    "from datetime import date, datetime\n",
    "import calendar as cl"
   ]
  },
  {
   "cell_type": "code",
   "execution_count": 130,
   "metadata": {},
   "outputs": [
    {
     "name": "stdout",
     "output_type": "stream",
     "text": [
      "2008-12-31\n"
     ]
    }
   ],
   "source": [
    "from calendar import monthrange as mg\n",
    "from datetime import datetime as date\n",
    "\n",
    "def dju_dgr(juliano, ano):\n",
    "    num_dias = sum([[dia for dia in mg(ano, dias)][1] for dias in range(1, 13)])\n",
    "    if num_dias == 365:\n",
    "        i=0\n",
    "    else:\n",
    "        i=1\n",
    "\n",
    "    if juliano <=31:\n",
    "        dias= range(1, 32)\n",
    "        mes = 1\n",
    "    elif (juliano >31 and juliano <=59+i):\n",
    "        dias= range(32, 60+i)\n",
    "        mes = 2\n",
    "    elif (juliano >59+i and juliano <=90+i):\n",
    "        dias= range(60+i, 91+i)\n",
    "        mes = 3\n",
    "    elif (juliano >90+i and juliano <=120+i):\n",
    "        dias= range(91+i, 121+i)\n",
    "        mes = 4\n",
    "    elif (juliano >120+i and juliano <=151+i):\n",
    "        dias= range(121+i, 152+i)\n",
    "        mes = 5\n",
    "    elif (juliano >151+i and juliano <=181+i):\n",
    "        dias= range(152+i, 182+i)\n",
    "        mes = 6\n",
    "    elif (juliano >181+i and juliano <=212+i):\n",
    "        dias= range(182+i, 213+i)\n",
    "        mes = 7\n",
    "    elif (juliano >212+i and juliano <=243+i):\n",
    "        dias= range(214+i, 244+i)\n",
    "        mes = 8\n",
    "    elif (juliano >242+i and juliano <=273+i):\n",
    "        dias= range(243+i, 274+i)\n",
    "        mes = 9\n",
    "    elif (juliano >273+i and juliano <=304+i):\n",
    "        dias= range(274+i, 305+i)\n",
    "        mes = 10\n",
    "    elif (juliano >304+i and juliano <=334+i):\n",
    "        dias= range(305+i, 335+i)\n",
    "        mes = 11\n",
    "    else:\n",
    "        dias= range(335+i, 366+i)\n",
    "        mes = 12\n",
    "    data = date(ano, mes, list(dias).index(juliano)+1)\n",
    "    \n",
    "    return data.date()\n",
    "\n",
    "a = dju_dgr(366, 2008)\n",
    "print(a)"
   ]
  }
 ],
 "metadata": {
  "kernelspec": {
   "display_name": "Python 3.10.7 ('.venv': venv)",
   "language": "python",
   "name": "python3"
  },
  "language_info": {
   "codemirror_mode": {
    "name": "ipython",
    "version": 3
   },
   "file_extension": ".py",
   "mimetype": "text/x-python",
   "name": "python",
   "nbconvert_exporter": "python",
   "pygments_lexer": "ipython3",
   "version": "3.10.7"
  },
  "orig_nbformat": 4,
  "vscode": {
   "interpreter": {
    "hash": "f799c42e2dacf1a4f88999c1f057cc6db5435977b093fcbed6d5896fae4f59c8"
   }
  }
 },
 "nbformat": 4,
 "nbformat_minor": 2
}
